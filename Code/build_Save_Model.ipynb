{
 "cells": [
  {
   "cell_type": "markdown",
   "metadata": {},
   "source": [
    "# Builds and saves a model for later use based on claim and not claim dataset\n",
    "\n",
    "\n",
    "Author: Kiran Bhattacharyya\n",
    "\n",
    "Revision: 5/11/18 - DRM - translate .py files into .ipynb, misc formatting"
   ]
  },
  {
   "cell_type": "code",
   "execution_count": 1,
   "metadata": {},
   "outputs": [],
   "source": [
    "# import relevant libraries\n",
    "import pandas as pd\n",
    "import numpy as np\n",
    "from sklearn.ensemble import ExtraTreesClassifier\n",
    "from sklearn.metrics import confusion_matrix\n",
    "import pickle"
   ]
  },
  {
   "cell_type": "markdown",
   "metadata": {},
   "source": [
    "### load data\n"
   ]
  },
  {
   "cell_type": "code",
   "execution_count": 2,
   "metadata": {},
   "outputs": [],
   "source": [
    "allFeatureName = pd.read_pickle('../Data/allFeatureNames.pkl') # feature names\n",
    "needCiteFeat = np.load('../Data/NeedCiteFeatMat.npy') # feature matrix of claim dataset\n",
    "notClaimFeat = np.load('../Data/NotClaimFeatMat.npy') # feature matrix of not claim dataset\n"
   ]
  },
  {
   "cell_type": "markdown",
   "metadata": {},
   "source": [
    "### concatenate all data"
   ]
  },
  {
   "cell_type": "code",
   "execution_count": 3,
   "metadata": {},
   "outputs": [],
   "source": [
    "allFeats = np.concatenate((needCiteFeat, notClaimFeat), 0)\n",
    "allClass = np.concatenate((np.ones((len(needCiteFeat), 1)), np.zeros((len(notClaimFeat), 1))), 0)\n",
    "needCiteFeat = list() # clear data to save memory\n",
    "notClaimFeat = list()"
   ]
  },
  {
   "cell_type": "markdown",
   "metadata": {},
   "source": [
    "I need to fix this bug in the saved data. NOTE THAT IT SHOULD BE value 2823"
   ]
  },
  {
   "cell_type": "code",
   "execution_count": 4,
   "metadata": {},
   "outputs": [],
   "source": [
    "# feature number 2353 is ']' and is irrelevant, an error in data pre-processing\n",
    "allFeats[:,2353] = 0\n"
   ]
  },
  {
   "cell_type": "markdown",
   "metadata": {},
   "source": [
    "### reorder elements\n"
   ]
  },
  {
   "cell_type": "code",
   "execution_count": 5,
   "metadata": {},
   "outputs": [],
   "source": [
    "reOrder = np.random.permutation(len(allFeats))\n",
    "allFeats = allFeats[reOrder,:]\n",
    "allClass = allClass[reOrder,:]\n",
    "y = np.ravel(allClass)\n"
   ]
  },
  {
   "cell_type": "markdown",
   "metadata": {},
   "source": [
    "### perform random forest classification to get feature importances\n"
   ]
  },
  {
   "cell_type": "code",
   "execution_count": 6,
   "metadata": {},
   "outputs": [],
   "source": [
    "clf = ExtraTreesClassifier(n_estimators=100,n_jobs=-2) #change n_jobs depending on cores\n",
    "clf.fit(allFeats, y)\n",
    "featImp = clf.feature_importances_ # get feature importances\n",
    "featImpSort = np.argsort(featImp) # sort feature importances\n"
   ]
  },
  {
   "cell_type": "code",
   "execution_count": 15,
   "metadata": {},
   "outputs": [
    {
     "data": {
      "text/plain": [
       "array([2353, 3046, 1142,  842, 2667, 2677,  647, 3355, 1377, 2473])"
      ]
     },
     "execution_count": 15,
     "metadata": {},
     "output_type": "execute_result"
    }
   ],
   "source": [
    "featImpSort[0:10]"
   ]
  },
  {
   "cell_type": "code",
   "execution_count": 21,
   "metadata": {},
   "outputs": [
    {
     "data": {
      "text/plain": [
       "array([[0., 0., 0., ..., 0., 1., 1.],\n",
       "       [0., 0., 0., ..., 0., 1., 1.],\n",
       "       [0., 0., 0., ..., 0., 1., 0.]])"
      ]
     },
     "execution_count": 21,
     "metadata": {},
     "output_type": "execute_result"
    }
   ],
   "source": [
    "allFeats[0:3]"
   ]
  },
  {
   "cell_type": "markdown",
   "metadata": {},
   "source": [
    "### rearrange dimensions so they are sorted by feature importance\n"
   ]
  },
  {
   "cell_type": "code",
   "execution_count": 7,
   "metadata": {},
   "outputs": [],
   "source": [
    "allFeats_sort = np.zeros((len(allFeats), int(allFeats.shape[1])))\n",
    "featName_sort = list()\n",
    "for i in range(0,len(featImpSort)):\n",
    "    indx = featImpSort[-(i + 1)]\n",
    "    allFeats_sort[:,i] = allFeats[:,indx]\n",
    "    featName_sort.append(allFeatureName.FeatName[indx])\n"
   ]
  },
  {
   "cell_type": "markdown",
   "metadata": {},
   "source": [
    "### build a model with only 600 predictors since we found that accuracy does not change that much after the first 600 most important predictors\n"
   ]
  },
  {
   "cell_type": "code",
   "execution_count": 8,
   "metadata": {},
   "outputs": [
    {
     "data": {
      "text/plain": [
       "ExtraTreesClassifier(bootstrap=False, class_weight=None, criterion='gini',\n",
       "           max_depth=None, max_features='auto', max_leaf_nodes=None,\n",
       "           min_impurity_decrease=0.0, min_impurity_split=None,\n",
       "           min_samples_leaf=1, min_samples_split=2,\n",
       "           min_weight_fraction_leaf=0.0, n_estimators=10, n_jobs=1,\n",
       "           oob_score=False, random_state=None, verbose=0, warm_start=False)"
      ]
     },
     "execution_count": 8,
     "metadata": {},
     "output_type": "execute_result"
    }
   ],
   "source": [
    "subFeats = allFeats_sort[:, 0:599]\n",
    "subFeatName = featName_sort[0:599]\n",
    "myModel = ExtraTreesClassifier(n_estimators=10,)\n",
    "myModel.fit(subFeats, y)"
   ]
  },
  {
   "cell_type": "markdown",
   "metadata": {},
   "source": [
    "## Save Model"
   ]
  },
  {
   "cell_type": "code",
   "execution_count": 9,
   "metadata": {},
   "outputs": [],
   "source": [
    "## save the model to disk\n",
    "filename = '../Data/finalized_model.sav'\n",
    "pickle.dump(myModel, open(filename, 'wb'))\n",
    "\n",
    "## save the feature names, feature matrix, and class labels used to create the model\n",
    "np.save('../Data/Features_finalized_model.npy', subFeats)\n",
    "np.save('../Data/ClassLabels_finalized_model.npy', y)\n",
    "subFeatArr = np.array(subFeatName)\n",
    "np.save('../Data/FeatureName_finalized_model.npy', subFeatArr)\n"
   ]
  },
  {
   "cell_type": "code",
   "execution_count": null,
   "metadata": {},
   "outputs": [],
   "source": []
  }
 ],
 "metadata": {
  "kernelspec": {
   "display_name": "Python 3",
   "language": "python",
   "name": "python3"
  },
  "language_info": {
   "codemirror_mode": {
    "name": "ipython",
    "version": 3
   },
   "file_extension": ".py",
   "mimetype": "text/x-python",
   "name": "python",
   "nbconvert_exporter": "python",
   "pygments_lexer": "ipython3",
   "version": "3.6.4"
  }
 },
 "nbformat": 4,
 "nbformat_minor": 2
}
